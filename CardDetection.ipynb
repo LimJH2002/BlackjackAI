{
 "cells": [
  {
   "cell_type": "code",
   "execution_count": null,
   "metadata": {},
   "outputs": [],
   "source": [
    "import os  # OS operations like file handling\n",
    "import random  # Random number generation\n",
    "import pandas as pd  # Data manipulation \n",
    "from PIL import Image  # Image processing\n",
    "import cv2  # Computer vision tasks\n",
    "from IPython.display import Video  # Display videos in Jupyter notebooks\n",
    "import numpy as np  # Numerical computations\n",
    "import matplotlib.pyplot as plt  # Plotting graphs and visualizations\n",
    "import seaborn as sns  # Statistical data visualizations\n",
    "sns.set_theme(style='darkgrid')\n",
    "import pathlib  # File system paths handling\n",
    "import glob  # File pattern matching (e.g., search for files)\n",
    "from tqdm.notebook import trange, tqdm  # Progress bars in notebooks\n",
    "import warnings  # Manage warning messages\n",
    "warnings.filterwarnings('ignore')\n",
    "from ultralytics import YOLO "
   ]
  },
  {
   "cell_type": "code",
   "execution_count": null,
   "metadata": {},
   "outputs": [],
   "source": [
    "# Final_model = YOLO('yolov11n.pt')\n",
    "Final_model = YOLO(\"./runs/detect/train2/weights/last.pt\")\n",
    "# Training The Final Model\n",
    "Result_Final_model = Final_model.train(\n",
    "    data=\"/Users/limjh/Projects/BlackjackAI/data/data.yaml\",\n",
    "    device=\"mps\",\n",
    "    resume=True,\n",
    "    save_period=1,\n",
    "    epochs=60,\n",
    "    batch=-1,\n",
    "    optimizer=\"auto\",\n",
    ")"
   ]
  },
  {
   "cell_type": "code",
   "execution_count": null,
   "metadata": {},
   "outputs": [],
   "source": [
    "Valid_model = YOLO(\"./runs/detect/train2/weights/best.pt\")"
   ]
  },
  {
   "cell_type": "code",
   "execution_count": null,
   "metadata": {},
   "outputs": [],
   "source": [
    "dataset_path = \"./data\"\n",
    "test_images_path = os.path.join(dataset_path, \"test\", \"images\")\n",
    "\n",
    "# List of all jpg images in the directory\n",
    "image_files = [file for file in os.listdir(test_images_path) if file.endswith(\".jpg\")]"
   ]
  },
  {
   "cell_type": "code",
   "execution_count": null,
   "metadata": {},
   "outputs": [],
   "source": [
    "if len(image_files) > 0:\n",
    "    # Select 9 images at equal intervals\n",
    "    num_images = len(image_files)\n",
    "    step_size = max(1, num_images // 9)  # Ensure the interval is at least 1\n",
    "    selected_images = [image_files[i] for i in range(0, num_images, step_size)]\n",
    "\n",
    "    # Prepare subplots\n",
    "    fig, axes = plt.subplots(3, 3, figsize=(20, 21))\n",
    "    fig.suptitle(\"Validation Set Inferences\", fontsize=24)\n",
    "\n",
    "    for i, ax in enumerate(axes.flatten()):\n",
    "        if i < len(selected_images):\n",
    "            image_path = os.path.join(test_images_path, selected_images[i])\n",
    "            # Load image\n",
    "            image = cv2.imread(image_path)\n",
    "\n",
    "            # Check if the image is loaded correctly\n",
    "            if image is not None:\n",
    "                # Resize image\n",
    "                resized_image = cv2.resize(image, (640, 640))  # Direct resize\n",
    "                normalized_image = resized_image / 255.0  # Normalize\n",
    "                # Convert the normalized image to uint8 data type\n",
    "                normalized_image_uint8 = (normalized_image * 255).astype(np.uint8)\n",
    "\n",
    "                # Predict with the model\n",
    "                results = Valid_model.predict(\n",
    "                    source=normalized_image_uint8, imgsz=640, conf=0.5\n",
    "                )\n",
    "\n",
    "                # Plot image with labels\n",
    "                annotated_image = results[0].plot(line_width=1)\n",
    "                annotated_image_rgb = cv2.cvtColor(annotated_image, cv2.COLOR_BGR2RGB)\n",
    "                ax.imshow(annotated_image_rgb)\n",
    "            else:\n",
    "                print(f\"Failed to load image {image_path}\")\n",
    "        ax.axis(\"off\")\n",
    "\n",
    "    plt.tight_layout()\n",
    "    plt.show()"
   ]
  }
 ],
 "metadata": {
  "kernelspec": {
   "display_name": "BlackjackAI",
   "language": "python",
   "name": "python3"
  },
  "language_info": {
   "codemirror_mode": {
    "name": "ipython",
    "version": 3
   },
   "file_extension": ".py",
   "mimetype": "text/x-python",
   "name": "python",
   "nbconvert_exporter": "python",
   "pygments_lexer": "ipython3",
   "version": "3.12.7"
  }
 },
 "nbformat": 4,
 "nbformat_minor": 2
}
