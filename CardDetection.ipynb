{
 "cells": [
  {
   "cell_type": "code",
   "execution_count": 1,
   "metadata": {},
   "outputs": [],
   "source": [
    "import os  # OS operations like file handling\n",
    "import random  # Random number generation\n",
    "import pandas as pd  # Data manipulation\n",
    "from PIL import Image  # Image processing\n",
    "import cv2  # Computer vision tasks\n",
    "from IPython.display import Video  # Display videos in Jupyter notebooks\n",
    "import numpy as np  # Numerical computations\n",
    "import matplotlib.pyplot as plt  # Plotting graphs and visualizations\n",
    "import seaborn as sns  # Statistical data visualizations\n",
    "\n",
    "sns.set_theme(style=\"darkgrid\")\n",
    "import pathlib  # File system paths handling\n",
    "import glob  # File pattern matching (e.g., search for files)\n",
    "from tqdm.notebook import trange, tqdm  # Progress bars in notebooks\n",
    "import warnings  # Manage warning messages\n",
    "\n",
    "warnings.filterwarnings(\"ignore\")\n",
    "from ultralytics import YOLO"
   ]
  },
  {
   "cell_type": "code",
   "execution_count": 2,
   "metadata": {},
   "outputs": [
    {
     "name": "stdout",
     "output_type": "stream",
     "text": [
      "New https://pypi.org/project/ultralytics/8.3.40 available 😃 Update with 'pip install -U ultralytics'\n",
      "Ultralytics 8.3.37 🚀 Python-3.12.7 torch-2.5.1 MPS (unknown)\n",
      "\u001b[34m\u001b[1mengine/trainer: \u001b[0mtask=detect, mode=train, model=runs/detect/train/weights/last.pt, data=/Users/limjh/Projects/BlackjackAI/data/data.yaml, epochs=150, time=None, patience=100, batch=-1, imgsz=640, save=True, save_period=1, cache=False, device=mps, workers=0, project=None, name=train, exist_ok=False, pretrained=True, optimizer=auto, verbose=True, seed=0, deterministic=True, single_cls=False, rect=False, cos_lr=False, close_mosaic=10, resume=runs/detect/train/weights/last.pt, amp=True, fraction=1.0, profile=False, freeze=None, multi_scale=False, overlap_mask=True, mask_ratio=4, dropout=0.0, val=True, split=val, save_json=False, save_hybrid=False, conf=None, iou=0.7, max_det=300, half=False, dnn=False, plots=True, source=None, vid_stride=1, stream_buffer=False, visualize=False, augment=False, agnostic_nms=False, classes=None, retina_masks=False, embed=None, show=False, save_frames=False, save_txt=False, save_conf=False, save_crop=False, show_labels=True, show_conf=True, show_boxes=True, line_width=None, format=torchscript, keras=False, optimize=False, int8=False, dynamic=False, simplify=True, opset=None, workspace=None, nms=False, lr0=0.01, lrf=0.01, momentum=0.937, weight_decay=0.0005, warmup_epochs=3.0, warmup_momentum=0.8, warmup_bias_lr=0.0, box=7.5, cls=0.5, dfl=1.5, pose=12.0, kobj=1.0, label_smoothing=0.0, nbs=64, hsv_h=0.015, hsv_s=0.7, hsv_v=0.4, degrees=0.0, translate=0.1, scale=0.5, shear=0.0, perspective=0.0, flipud=0.0, fliplr=0.5, bgr=0.0, mosaic=1.0, mixup=0.0, copy_paste=0.0, copy_paste_mode=flip, auto_augment=randaugment, erasing=0.4, crop_fraction=1.0, cfg=None, tracker=botsort.yaml, save_dir=runs/detect/train\n"
     ]
    },
    {
     "name": "stderr",
     "output_type": "stream",
     "text": [
      "Fontconfig warning: ignoring UTF-8: not a valid region tag\n"
     ]
    },
    {
     "name": "stdout",
     "output_type": "stream",
     "text": [
      "\n",
      "                   from  n    params  module                                       arguments                     \n",
      "  0                  -1  1       928  ultralytics.nn.modules.conv.Conv             [3, 32, 3, 2]                 \n",
      "  1                  -1  1     18560  ultralytics.nn.modules.conv.Conv             [32, 64, 3, 2]                \n",
      "  2                  -1  1     29056  ultralytics.nn.modules.block.C2f             [64, 64, 1, True]             \n",
      "  3                  -1  1     73984  ultralytics.nn.modules.conv.Conv             [64, 128, 3, 2]               \n",
      "  4                  -1  2    197632  ultralytics.nn.modules.block.C2f             [128, 128, 2, True]           \n",
      "  5                  -1  1    295424  ultralytics.nn.modules.conv.Conv             [128, 256, 3, 2]              \n",
      "  6                  -1  2    788480  ultralytics.nn.modules.block.C2f             [256, 256, 2, True]           \n",
      "  7                  -1  1   1180672  ultralytics.nn.modules.conv.Conv             [256, 512, 3, 2]              \n",
      "  8                  -1  1   1838080  ultralytics.nn.modules.block.C2f             [512, 512, 1, True]           \n",
      "  9                  -1  1    656896  ultralytics.nn.modules.block.SPPF            [512, 512, 5]                 \n",
      " 10                  -1  1         0  torch.nn.modules.upsampling.Upsample         [None, 2, 'nearest']          \n",
      " 11             [-1, 6]  1         0  ultralytics.nn.modules.conv.Concat           [1]                           \n",
      " 12                  -1  1    591360  ultralytics.nn.modules.block.C2f             [768, 256, 1]                 \n",
      " 13                  -1  1         0  torch.nn.modules.upsampling.Upsample         [None, 2, 'nearest']          \n",
      " 14             [-1, 4]  1         0  ultralytics.nn.modules.conv.Concat           [1]                           \n",
      " 15                  -1  1    148224  ultralytics.nn.modules.block.C2f             [384, 128, 1]                 \n",
      " 16                  -1  1    147712  ultralytics.nn.modules.conv.Conv             [128, 128, 3, 2]              \n",
      " 17            [-1, 12]  1         0  ultralytics.nn.modules.conv.Concat           [1]                           \n",
      " 18                  -1  1    493056  ultralytics.nn.modules.block.C2f             [384, 256, 1]                 \n",
      " 19                  -1  1    590336  ultralytics.nn.modules.conv.Conv             [256, 256, 3, 2]              \n",
      " 20             [-1, 9]  1         0  ultralytics.nn.modules.conv.Concat           [1]                           \n",
      " 21                  -1  1   1969152  ultralytics.nn.modules.block.C2f             [768, 512, 1]                 \n",
      " 22        [15, 18, 21]  1   2136172  ultralytics.nn.modules.head.Detect           [52, [128, 256, 512]]         \n",
      "Model summary: 225 layers, 11,155,724 parameters, 11,155,708 gradients, 28.8 GFLOPs\n",
      "\n",
      "Transferred 355/355 items from pretrained weights\n",
      "Freezing layer 'model.22.dfl.conv.weight'\n"
     ]
    },
    {
     "name": "stderr",
     "output_type": "stream",
     "text": [
      "\u001b[34m\u001b[1mtrain: \u001b[0mScanning /Users/limjh/Projects/BlackjackAI/data/train/labels.cache... 14000 images, 0 backgrounds, 0 corrupt: 100%|██████████| 14000/14000 [00:00<?, ?it/s]"
     ]
    },
    {
     "name": "stdout",
     "output_type": "stream",
     "text": [
      "\u001b[34m\u001b[1mAutoBatch: \u001b[0mComputing optimal batch size for imgsz=640 at 60.0% CUDA memory utilization.\n",
      "\u001b[34m\u001b[1mAutoBatch: \u001b[0m ⚠️ intended for CUDA devices, using default batch-size 16\n"
     ]
    },
    {
     "name": "stderr",
     "output_type": "stream",
     "text": [
      "\n",
      "\u001b[34m\u001b[1mtrain: \u001b[0mScanning /Users/limjh/Projects/BlackjackAI/data/train/labels.cache... 14000 images, 0 backgrounds, 0 corrupt: 100%|██████████| 14000/14000 [00:00<?, ?it/s]\n",
      "\u001b[34m\u001b[1mval: \u001b[0mScanning /Users/limjh/Projects/BlackjackAI/data/valid/labels.cache... 4000 images, 0 backgrounds, 0 corrupt: 100%|██████████| 4000/4000 [00:00<?, ?it/s]"
     ]
    },
    {
     "name": "stdout",
     "output_type": "stream",
     "text": [
      "Plotting labels to runs/detect/train/labels.jpg... \n"
     ]
    },
    {
     "name": "stderr",
     "output_type": "stream",
     "text": [
      "\n"
     ]
    },
    {
     "name": "stdout",
     "output_type": "stream",
     "text": [
      "\u001b[34m\u001b[1moptimizer:\u001b[0m 'optimizer=auto' found, ignoring 'lr0=0.01' and 'momentum=0.937' and determining best 'optimizer', 'lr0' and 'momentum' automatically... \n",
      "\u001b[34m\u001b[1moptimizer:\u001b[0m SGD(lr=0.01, momentum=0.9) with parameter groups 57 weight(decay=0.0), 64 weight(decay=0.0005), 63 bias(decay=0.0)\n",
      "Resuming training runs/detect/train/weights/last.pt from epoch 142 to 150 total epochs\n",
      "Closing dataloader mosaic\n",
      "Image sizes 640 train, 640 val\n",
      "Using 0 dataloader workers\n",
      "Logging results to \u001b[1mruns/detect/train\u001b[0m\n",
      "Starting training for 150 epochs...\n",
      "\n",
      "      Epoch    GPU_mem   box_loss   cls_loss   dfl_loss  Instances       Size\n"
     ]
    },
    {
     "name": "stderr",
     "output_type": "stream",
     "text": [
      "    142/150      8.01G     0.3031     0.1634     0.7876         61        640: 100%|██████████| 875/875 [22:29<00:00,  1.54s/it]\n",
      "                 Class     Images  Instances      Box(P          R      mAP50  mAP50-95): 100%|██████████| 125/125 [09:53<00:00,  4.75s/it]\n"
     ]
    },
    {
     "name": "stdout",
     "output_type": "stream",
     "text": [
      "                   all       4000      15159      0.987      0.989      0.991      0.967\n",
      "\n",
      "      Epoch    GPU_mem   box_loss   cls_loss   dfl_loss  Instances       Size\n"
     ]
    },
    {
     "name": "stderr",
     "output_type": "stream",
     "text": [
      "    143/150      9.33G     0.3009     0.1617     0.7865         57        640: 100%|██████████| 875/875 [27:13<00:00,  1.87s/it]\n",
      "                 Class     Images  Instances      Box(P          R      mAP50  mAP50-95): 100%|██████████| 125/125 [03:17<00:00,  1.58s/it]\n"
     ]
    },
    {
     "name": "stdout",
     "output_type": "stream",
     "text": [
      "                   all       4000      15159      0.986      0.989      0.991      0.967\n",
      "\n",
      "      Epoch    GPU_mem   box_loss   cls_loss   dfl_loss  Instances       Size\n"
     ]
    },
    {
     "name": "stderr",
     "output_type": "stream",
     "text": [
      "    144/150      10.2G     0.2998     0.1595      0.787         57        640: 100%|██████████| 875/875 [22:54<00:00,  1.57s/it]\n",
      "                 Class     Images  Instances      Box(P          R      mAP50  mAP50-95): 100%|██████████| 125/125 [03:33<00:00,  1.71s/it]\n"
     ]
    },
    {
     "name": "stdout",
     "output_type": "stream",
     "text": [
      "                   all       4000      15159      0.986       0.99      0.991      0.967\n",
      "\n",
      "      Epoch    GPU_mem   box_loss   cls_loss   dfl_loss  Instances       Size\n"
     ]
    },
    {
     "name": "stderr",
     "output_type": "stream",
     "text": [
      "    145/150      11.3G      0.299       0.16     0.7858         61        640: 100%|██████████| 875/875 [20:08<00:00,  1.38s/it]\n",
      "                 Class     Images  Instances      Box(P          R      mAP50  mAP50-95): 100%|██████████| 125/125 [03:42<00:00,  1.78s/it]\n"
     ]
    },
    {
     "name": "stdout",
     "output_type": "stream",
     "text": [
      "                   all       4000      15159      0.986       0.99      0.992      0.967\n",
      "\n",
      "      Epoch    GPU_mem   box_loss   cls_loss   dfl_loss  Instances       Size\n"
     ]
    },
    {
     "name": "stderr",
     "output_type": "stream",
     "text": [
      "    146/150      12.3G     0.2972     0.1572     0.7866         63        640: 100%|██████████| 875/875 [17:48<00:00,  1.22s/it]\n",
      "                 Class     Images  Instances      Box(P          R      mAP50  mAP50-95): 100%|██████████| 125/125 [03:34<00:00,  1.72s/it]\n"
     ]
    },
    {
     "name": "stdout",
     "output_type": "stream",
     "text": [
      "                   all       4000      15159      0.986       0.99      0.992      0.967\n",
      "\n",
      "      Epoch    GPU_mem   box_loss   cls_loss   dfl_loss  Instances       Size\n"
     ]
    },
    {
     "name": "stderr",
     "output_type": "stream",
     "text": [
      "    147/150      13.4G     0.2958     0.1558     0.7857         61        640: 100%|██████████| 875/875 [16:30<00:00,  1.13s/it]\n",
      "                 Class     Images  Instances      Box(P          R      mAP50  mAP50-95): 100%|██████████| 125/125 [04:05<00:00,  1.96s/it]\n"
     ]
    },
    {
     "name": "stdout",
     "output_type": "stream",
     "text": [
      "                   all       4000      15159      0.986       0.99      0.992      0.967\n",
      "\n",
      "      Epoch    GPU_mem   box_loss   cls_loss   dfl_loss  Instances       Size\n"
     ]
    },
    {
     "name": "stderr",
     "output_type": "stream",
     "text": [
      "    148/150        14G     0.2948     0.1558     0.7841         55        640: 100%|██████████| 875/875 [16:15<00:00,  1.11s/it]\n",
      "                 Class     Images  Instances      Box(P          R      mAP50  mAP50-95): 100%|██████████| 125/125 [04:04<00:00,  1.96s/it]\n"
     ]
    },
    {
     "name": "stdout",
     "output_type": "stream",
     "text": [
      "                   all       4000      15159      0.986       0.99      0.992      0.967\n",
      "\n",
      "      Epoch    GPU_mem   box_loss   cls_loss   dfl_loss  Instances       Size\n"
     ]
    },
    {
     "name": "stderr",
     "output_type": "stream",
     "text": [
      "    149/150      14.8G     0.2946     0.1544     0.7867         61        640: 100%|██████████| 875/875 [15:32<00:00,  1.07s/it]\n",
      "                 Class     Images  Instances      Box(P          R      mAP50  mAP50-95): 100%|██████████| 125/125 [04:06<00:00,  1.97s/it]\n"
     ]
    },
    {
     "name": "stdout",
     "output_type": "stream",
     "text": [
      "                   all       4000      15159      0.987      0.989      0.992      0.967\n",
      "\n",
      "      Epoch    GPU_mem   box_loss   cls_loss   dfl_loss  Instances       Size\n"
     ]
    },
    {
     "name": "stderr",
     "output_type": "stream",
     "text": [
      "    150/150      15.4G     0.2932     0.1539     0.7865         57        640: 100%|██████████| 875/875 [15:01<00:00,  1.03s/it]\n",
      "                 Class     Images  Instances      Box(P          R      mAP50  mAP50-95): 100%|██████████| 125/125 [04:49<00:00,  2.31s/it]\n"
     ]
    },
    {
     "name": "stdout",
     "output_type": "stream",
     "text": [
      "                   all       4000      15159      0.987      0.989      0.992      0.967\n",
      "\n",
      "9 epochs completed in 3.604 hours.\n",
      "Optimizer stripped from runs/detect/train/weights/last.pt, 22.6MB\n",
      "Optimizer stripped from runs/detect/train/weights/best.pt, 22.6MB\n",
      "\n",
      "Validating runs/detect/train/weights/best.pt...\n",
      "Ultralytics 8.3.37 🚀 Python-3.12.7 torch-2.5.1 MPS (unknown)\n",
      "Model summary (fused): 168 layers, 11,145,708 parameters, 0 gradients, 28.5 GFLOPs\n"
     ]
    },
    {
     "name": "stderr",
     "output_type": "stream",
     "text": [
      "                 Class     Images  Instances      Box(P          R      mAP50  mAP50-95): 100%|██████████| 125/125 [04:26<00:00,  2.13s/it]\n"
     ]
    },
    {
     "name": "stdout",
     "output_type": "stream",
     "text": [
      "                   all       4000      15159      0.987      0.989      0.992      0.967\n",
      "                   10c        180        282      0.999          1      0.995      0.934\n",
      "                   10d        188        290      0.999          1      0.995      0.929\n",
      "                   10h        201        322      0.999          1      0.995      0.947\n",
      "                   10s        165        250      0.998          1      0.995      0.957\n",
      "                    2c        193        295      0.998          1      0.995       0.98\n",
      "                    2d        167        259      0.998          1      0.995      0.969\n",
      "                    2h        187        294      0.999          1      0.995      0.969\n",
      "                    2s        192        299      0.999          1      0.995      0.972\n",
      "                    3c        201        308      0.999          1      0.995      0.981\n",
      "                    3d        167        250      0.998          1      0.995      0.972\n",
      "                    3h        200        313      0.999          1      0.995      0.977\n",
      "                    3s        229        358      0.999          1      0.995      0.981\n",
      "                    4c        178        276      0.998          1      0.995      0.976\n",
      "                    4d        183        282      0.999          1      0.995      0.965\n",
      "                    4h        199        312      0.999          1      0.995      0.966\n",
      "                    4s        198        295      0.999          1      0.995      0.977\n",
      "                    5c        182        290      0.999          1      0.995       0.98\n",
      "                    5d        178        283      0.999          1      0.995      0.974\n",
      "                    5h        168        253      0.998          1      0.995      0.971\n",
      "                    5s        194        281      0.999          1      0.995       0.98\n",
      "                    6c        183        284      0.999          1      0.995      0.981\n",
      "                    6d        185        286      0.999          1      0.995      0.975\n",
      "                    6h        210        329      0.999          1      0.995      0.977\n",
      "                    6s        185        289      0.999          1      0.995      0.978\n",
      "                    7c        196        304      0.998          1      0.995      0.983\n",
      "                    7d        192        311      0.999          1      0.995      0.979\n",
      "                    7h        201        303      0.999          1      0.995      0.975\n",
      "                    7s        195        304      0.999          1      0.995      0.981\n",
      "                    8c        184        285      0.965      0.972       0.99      0.975\n",
      "                    8d        170        261      0.877      0.912      0.965      0.949\n",
      "                    8h        173        255       0.97      0.984      0.994      0.973\n",
      "                    8s        218        339      0.883      0.912      0.954      0.934\n",
      "                    9c        199        309      0.999          1      0.995      0.979\n",
      "                    9d        183        275          1      0.999      0.995      0.977\n",
      "                    9h        178        272      0.998          1      0.995      0.977\n",
      "                    9s        176        263      0.998          1      0.995      0.976\n",
      "                    Ac        185        288      0.951      0.939      0.986      0.961\n",
      "                    Ad        192        294      0.971      0.976      0.988      0.957\n",
      "                    Ah        192        283      0.802      0.784      0.912      0.871\n",
      "                    As        213        322       0.96      0.979      0.992      0.964\n",
      "                    Jc        178        265      0.998          1      0.995      0.964\n",
      "                    Jd        181        285      0.999          1      0.995      0.952\n",
      "                    Jh        183        278      0.999          1      0.995      0.947\n",
      "                    Js        188        282      0.999          1      0.995      0.972\n",
      "                    Kc        196        307      0.999          1      0.995      0.978\n",
      "                    Kd        186        304      0.999          1      0.995      0.963\n",
      "                    Kh        192        297      0.999          1      0.995      0.965\n",
      "                    Ks        166        264      0.998          1      0.995      0.977\n",
      "                    Qc        202        300          1      0.995      0.995       0.98\n",
      "                    Qd        202        317      0.999          1      0.995      0.962\n",
      "                    Qh        189        295      0.998      0.993      0.995      0.972\n",
      "                    Qs        205        317      0.999          1      0.995      0.979\n",
      "Speed: 1.5ms preprocess, 8.5ms inference, 0.0ms loss, 32.1ms postprocess per image\n",
      "Results saved to \u001b[1mruns/detect/train\u001b[0m\n"
     ]
    }
   ],
   "source": [
    "# Final_model = YOLO('yolov8s.pt')\n",
    "Final_model = YOLO(\"./runs/detect/train/weights/last.pt\")\n",
    "# Training The Final Model\n",
    "Result_Final_model = Final_model.train(\n",
    "    data=\"/Users/limjh/Projects/BlackjackAI/data/data.yaml\",\n",
    "    device=\"mps\",\n",
    "    resume=True,\n",
    "    save_period=1,\n",
    "    epochs=150,\n",
    "    batch=-1,\n",
    "    optimizer=\"auto\",\n",
    ")"
   ]
  }
 ],
 "metadata": {
  "kernelspec": {
   "display_name": "BlackjackAI",
   "language": "python",
   "name": "python3"
  },
  "language_info": {
   "codemirror_mode": {
    "name": "ipython",
    "version": 3
   },
   "file_extension": ".py",
   "mimetype": "text/x-python",
   "name": "python",
   "nbconvert_exporter": "python",
   "pygments_lexer": "ipython3",
   "version": "3.12.7"
  }
 },
 "nbformat": 4,
 "nbformat_minor": 2
}
